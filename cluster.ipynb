{
 "cells": [
  {
   "cell_type": "code",
   "execution_count": 1,
   "metadata": {},
   "outputs": [],
   "source": [
    "import numpy as np\n",
    "import pandas as pd\n",
    "import matplotlib.pyplot as plt\n",
    "from sklearn.cluster import *\n",
    "from sklearn.metrics import *\n",
    "from sklearn.preprocessing import LabelEncoder, MinMaxScaler\n",
    "import astropy\n",
    "from astropy.coordinates import solar_system_ephemeris, EarthLocation\n",
    "from astropy import units as u\n",
    "from astropy.coordinates import SkyCoord\n",
    "from astropy import constants as const\n",
    "import hdbscan\n",
    "from astropy.io import fits\n",
    "import torch\n",
    "import torch.nn as nn\n",
    "import torch.nn.functional as F\n",
    "import torch.optim as optim\n",
    "from torchvision import datasets, transforms\n",
    "from torch.autograd import Variable\n",
    "from torchvision.utils import save_image\n",
    "from tqdm.notebook import tqdm"
   ]
  },
  {
   "cell_type": "code",
   "execution_count": 2,
   "metadata": {},
   "outputs": [],
   "source": [
    "GrID = pd.read_csv('rcsed_iGrID.csv')\n",
    "NANfilter = pd.notna(GrID.iGrID)\n",
    "y = GrID[NANfilter]\n",
    "hdul = fits.open('rcsed_v2_clean.fits', memmap=astropy.io.fits.Conf.use_memmap.defaultvalue, lazy_load_hdus=True)\n",
    "data = hdul[1].data\n",
    "hdul.close()\n",
    "DATA = pd.DataFrame(np.array(data).byteswap().newbyteorder())\n",
    "del data"
   ]
  },
  {
   "cell_type": "code",
   "execution_count": 3,
   "metadata": {},
   "outputs": [
    {
     "data": {
      "text/html": [
       "<div>\n",
       "<style scoped>\n",
       "    .dataframe tbody tr th:only-of-type {\n",
       "        vertical-align: middle;\n",
       "    }\n",
       "\n",
       "    .dataframe tbody tr th {\n",
       "        vertical-align: top;\n",
       "    }\n",
       "\n",
       "    .dataframe thead th {\n",
       "        text-align: right;\n",
       "    }\n",
       "</style>\n",
       "<table border=\"1\" class=\"dataframe\">\n",
       "  <thead>\n",
       "    <tr style=\"text-align: right;\">\n",
       "      <th></th>\n",
       "      <th>ra</th>\n",
       "      <th>dec</th>\n",
       "      <th>z_sdss</th>\n",
       "      <th>zerr_sdss</th>\n",
       "      <th>specObjID_sdss</th>\n",
       "      <th>bestObjID_sdss</th>\n",
       "      <th>plate_sdss</th>\n",
       "      <th>mjd_sdss</th>\n",
       "      <th>fiberID_sdss</th>\n",
       "      <th>z_2df</th>\n",
       "      <th>...</th>\n",
       "      <th>expRadErr_g</th>\n",
       "      <th>expAB_g</th>\n",
       "      <th>expABErr_g</th>\n",
       "      <th>expPhi_g</th>\n",
       "      <th>expMag_g</th>\n",
       "      <th>expFlux_g</th>\n",
       "      <th>expFluxIvar_g</th>\n",
       "      <th>expMagErr_g</th>\n",
       "      <th>modelMag_g</th>\n",
       "      <th>modelMagErr_g</th>\n",
       "    </tr>\n",
       "  </thead>\n",
       "  <tbody>\n",
       "    <tr>\n",
       "      <th>0</th>\n",
       "      <td>0.000019</td>\n",
       "      <td>-4.760800</td>\n",
       "      <td>2.467120</td>\n",
       "      <td>0.002194</td>\n",
       "      <td>7.919679e+18</td>\n",
       "      <td>0</td>\n",
       "      <td>7034</td>\n",
       "      <td>56564</td>\n",
       "      <td>360</td>\n",
       "      <td>NaN</td>\n",
       "      <td>...</td>\n",
       "      <td>NaN</td>\n",
       "      <td>NaN</td>\n",
       "      <td>NaN</td>\n",
       "      <td>NaN</td>\n",
       "      <td>NaN</td>\n",
       "      <td>NaN</td>\n",
       "      <td>NaN</td>\n",
       "      <td>NaN</td>\n",
       "      <td>NaN</td>\n",
       "      <td>NaN</td>\n",
       "    </tr>\n",
       "    <tr>\n",
       "      <th>1</th>\n",
       "      <td>0.000091</td>\n",
       "      <td>24.902252</td>\n",
       "      <td>0.555936</td>\n",
       "      <td>0.000245</td>\n",
       "      <td>7.333218e+18</td>\n",
       "      <td>1237666309095751941</td>\n",
       "      <td>6513</td>\n",
       "      <td>56543</td>\n",
       "      <td>843</td>\n",
       "      <td>NaN</td>\n",
       "      <td>...</td>\n",
       "      <td>11.760200</td>\n",
       "      <td>0.249997</td>\n",
       "      <td>0.369362</td>\n",
       "      <td>83.70193</td>\n",
       "      <td>22.08381</td>\n",
       "      <td>1.461627</td>\n",
       "      <td>1.991625</td>\n",
       "      <td>0.522415</td>\n",
       "      <td>23.18259</td>\n",
       "      <td>0.386604</td>\n",
       "    </tr>\n",
       "    <tr>\n",
       "      <th>2</th>\n",
       "      <td>0.000346</td>\n",
       "      <td>-6.491940</td>\n",
       "      <td>0.514177</td>\n",
       "      <td>0.000130</td>\n",
       "      <td>8.047035e+18</td>\n",
       "      <td>1237680243597902184</td>\n",
       "      <td>7147</td>\n",
       "      <td>56574</td>\n",
       "      <td>831</td>\n",
       "      <td>NaN</td>\n",
       "      <td>...</td>\n",
       "      <td>1.559838</td>\n",
       "      <td>0.147778</td>\n",
       "      <td>0.201906</td>\n",
       "      <td>84.34074</td>\n",
       "      <td>21.86258</td>\n",
       "      <td>1.794235</td>\n",
       "      <td>11.132140</td>\n",
       "      <td>0.180460</td>\n",
       "      <td>21.12392</td>\n",
       "      <td>0.183285</td>\n",
       "    </tr>\n",
       "    <tr>\n",
       "      <th>3</th>\n",
       "      <td>0.000463</td>\n",
       "      <td>10.241074</td>\n",
       "      <td>0.654380</td>\n",
       "      <td>0.000170</td>\n",
       "      <td>6.960408e+18</td>\n",
       "      <td>1237679319089349467</td>\n",
       "      <td>6182</td>\n",
       "      <td>56190</td>\n",
       "      <td>346</td>\n",
       "      <td>NaN</td>\n",
       "      <td>...</td>\n",
       "      <td>2.020618</td>\n",
       "      <td>0.265576</td>\n",
       "      <td>0.520042</td>\n",
       "      <td>43.52781</td>\n",
       "      <td>22.94896</td>\n",
       "      <td>0.649079</td>\n",
       "      <td>20.061290</td>\n",
       "      <td>0.359881</td>\n",
       "      <td>23.39049</td>\n",
       "      <td>0.270960</td>\n",
       "    </tr>\n",
       "    <tr>\n",
       "      <th>4</th>\n",
       "      <td>0.000559</td>\n",
       "      <td>34.985602</td>\n",
       "      <td>0.146326</td>\n",
       "      <td>0.000021</td>\n",
       "      <td>8.044630e+18</td>\n",
       "      <td>1237666184574271705</td>\n",
       "      <td>7145</td>\n",
       "      <td>56567</td>\n",
       "      <td>274</td>\n",
       "      <td>NaN</td>\n",
       "      <td>...</td>\n",
       "      <td>0.037337</td>\n",
       "      <td>0.722592</td>\n",
       "      <td>0.026249</td>\n",
       "      <td>126.50180</td>\n",
       "      <td>18.75811</td>\n",
       "      <td>31.387160</td>\n",
       "      <td>12.734440</td>\n",
       "      <td>0.009693</td>\n",
       "      <td>18.37597</td>\n",
       "      <td>0.009515</td>\n",
       "    </tr>\n",
       "  </tbody>\n",
       "</table>\n",
       "<p>5 rows × 558 columns</p>\n",
       "</div>"
      ],
      "text/plain": [
       "         ra        dec    z_sdss  zerr_sdss  specObjID_sdss  \\\n",
       "0  0.000019  -4.760800  2.467120   0.002194    7.919679e+18   \n",
       "1  0.000091  24.902252  0.555936   0.000245    7.333218e+18   \n",
       "2  0.000346  -6.491940  0.514177   0.000130    8.047035e+18   \n",
       "3  0.000463  10.241074  0.654380   0.000170    6.960408e+18   \n",
       "4  0.000559  34.985602  0.146326   0.000021    8.044630e+18   \n",
       "\n",
       "        bestObjID_sdss  plate_sdss  mjd_sdss  fiberID_sdss  z_2df  ...  \\\n",
       "0                    0        7034     56564           360    NaN  ...   \n",
       "1  1237666309095751941        6513     56543           843    NaN  ...   \n",
       "2  1237680243597902184        7147     56574           831    NaN  ...   \n",
       "3  1237679319089349467        6182     56190           346    NaN  ...   \n",
       "4  1237666184574271705        7145     56567           274    NaN  ...   \n",
       "\n",
       "   expRadErr_g   expAB_g  expABErr_g   expPhi_g  expMag_g  expFlux_g  \\\n",
       "0          NaN       NaN         NaN        NaN       NaN        NaN   \n",
       "1    11.760200  0.249997    0.369362   83.70193  22.08381   1.461627   \n",
       "2     1.559838  0.147778    0.201906   84.34074  21.86258   1.794235   \n",
       "3     2.020618  0.265576    0.520042   43.52781  22.94896   0.649079   \n",
       "4     0.037337  0.722592    0.026249  126.50180  18.75811  31.387160   \n",
       "\n",
       "   expFluxIvar_g  expMagErr_g  modelMag_g  modelMagErr_g  \n",
       "0            NaN          NaN         NaN            NaN  \n",
       "1       1.991625     0.522415    23.18259       0.386604  \n",
       "2      11.132140     0.180460    21.12392       0.183285  \n",
       "3      20.061290     0.359881    23.39049       0.270960  \n",
       "4      12.734440     0.009693    18.37597       0.009515  \n",
       "\n",
       "[5 rows x 558 columns]"
      ]
     },
     "metadata": {},
     "output_type": "display_data"
    }
   ],
   "source": [
    "DATA.drop('ind', axis=1, inplace=True)\n",
    "display(DATA.head())"
   ]
  },
  {
   "cell_type": "code",
   "execution_count": 4,
   "metadata": {},
   "outputs": [
    {
     "data": {
      "text/plain": [
       "(4105516, 558)"
      ]
     },
     "execution_count": 4,
     "metadata": {},
     "output_type": "execute_result"
    }
   ],
   "source": [
    "DATA.shape"
   ]
  },
  {
   "cell_type": "code",
   "execution_count": 5,
   "metadata": {},
   "outputs": [
    {
     "data": {
      "text/plain": [
       "(4105516, 552)"
      ]
     },
     "execution_count": 5,
     "metadata": {},
     "output_type": "execute_result"
    }
   ],
   "source": [
    "DATA = DATA.select_dtypes(include='number')\n",
    "DATA.shape"
   ]
  },
  {
   "cell_type": "code",
   "execution_count": 6,
   "metadata": {},
   "outputs": [],
   "source": [
    "DATA.replace([-2147483648, -9223372036854775808,-32768,255, -999999488.0,\n",
    " 99.0,\n",
    " 0.0,\n",
    " -99.0,\n",
    " 9999.0,\n",
    " -999.0,\n",
    " 0.05299999937415123,\n",
    " float('inf'),\n",
    " 3.5,\n",
    " -9999.0,\n",
    " 4.619999885559082,\n",
    " 0.05000000074505806,\n",
    " 70.0,\n",
    " 4.0,\n",
    " 179.96949768066406,\n",
    " 0.06128999963402748,\n",
    " 24.6346492767334], np.nan, inplace=True)"
   ]
  },
  {
   "cell_type": "code",
   "execution_count": 7,
   "metadata": {},
   "outputs": [
    {
     "data": {
      "text/plain": [
       "(4105516, 548)"
      ]
     },
     "execution_count": 7,
     "metadata": {},
     "output_type": "execute_result"
    }
   ],
   "source": [
    "DATA.dropna(axis=1,\n",
    "    how='all',\n",
    "    thresh=None,\n",
    "    subset=None,\n",
    "    inplace=True)\n",
    "DATA.shape"
   ]
  },
  {
   "cell_type": "code",
   "execution_count": 9,
   "metadata": {},
   "outputs": [],
   "source": [
    "top_values = []\n",
    "\n",
    "for col in DATA.columns[1:]:\n",
    "    vc = DATA[col].value_counts(ascending=False).head(1)\n",
    "    top_values.append([vc.name, vc.index[0], vc[vc.index[0]]])\n",
    "    \n",
    "anomaly = pd.DataFrame(data=top_values, columns = ['column_name', 'anomaly_value', 'value_counts'])"
   ]
  },
  {
   "cell_type": "code",
   "execution_count": 10,
   "metadata": {},
   "outputs": [],
   "source": [
    "not_nan = []\n",
    "\n",
    "for col in DATA.columns[1:]:\n",
    "    not_nan.append((~DATA[col].isna()).sum())\n",
    "    \n",
    "not_nan = pd.Series(not_nan)"
   ]
  },
  {
   "cell_type": "code",
   "execution_count": 11,
   "metadata": {},
   "outputs": [],
   "source": [
    "import copy\n",
    "\n",
    "top_values_data = copy.copy(anomaly)\n",
    "\n",
    "top_values_data['percent_total'] = (top_values_data.value_counts / len(DATA)).round(3)\n",
    "top_values_data['percent_not_nan'] = (top_values_data.value_counts / not_nan).round(3)\n",
    "top_values_data['non_null_part'] = (not_nan / len(DATA)).round(3)"
   ]
  },
  {
   "cell_type": "code",
   "execution_count": 12,
   "metadata": {},
   "outputs": [],
   "source": [
    "columns_drop = top_values_data[(top_values_data['percent_not_nan'] > 0.9) | (top_values_data['non_null_part'] < 0.1)].column_name "
   ]
  },
  {
   "cell_type": "code",
   "execution_count": 13,
   "metadata": {},
   "outputs": [
    {
     "data": {
      "text/plain": [
       "(4105516, 548)"
      ]
     },
     "execution_count": 13,
     "metadata": {},
     "output_type": "execute_result"
    }
   ],
   "source": [
    "DATA.shape"
   ]
  },
  {
   "cell_type": "code",
   "execution_count": 14,
   "metadata": {},
   "outputs": [],
   "source": [
    "DATA.drop(labels=columns_drop, axis = 1, inplace=True)"
   ]
  },
  {
   "cell_type": "code",
   "execution_count": 15,
   "metadata": {},
   "outputs": [
    {
     "data": {
      "text/plain": [
       "(4105516, 348)"
      ]
     },
     "execution_count": 15,
     "metadata": {},
     "output_type": "execute_result"
    }
   ],
   "source": [
    "DATA.shape"
   ]
  },
  {
   "cell_type": "code",
   "execution_count": 16,
   "metadata": {},
   "outputs": [],
   "source": [
    "nrmlzr = MinMaxScaler()\n",
    "x = nrmlzr.fit_transform(DATA)\n",
    "del DATA"
   ]
  },
  {
   "cell_type": "code",
   "execution_count": 17,
   "metadata": {},
   "outputs": [],
   "source": [
    "#x = x[NANfilter]"
   ]
  },
  {
   "cell_type": "code",
   "execution_count": 18,
   "metadata": {},
   "outputs": [
    {
     "data": {
      "text/plain": [
       "\"from sklearn.experimental import enable_iterative_imputer\\nfrom sklearn.impute import IterativeImputer\\n\\nfrom sklearn.ensemble import ExtraTreesRegressor\\nfrom sklearn.tree import DecisionTreeRegressor\\nfrom sklearn.neighbors import KNeighborsRegressor\\n\\nimputer = IterativeImputer(max_iter=10, tol=3*x.std().max(),random_state=42, \\n                           estimator=DecisionTreeRegressor(max_features='sqrt'))\\n\\nfor i in tqdm(range(10)):\\n    fit_x = x[np.random.choice(len(x), 10000)]\\n    imputer.fit(fit_x)\\nx = imputer.transform(x)\""
      ]
     },
     "execution_count": 18,
     "metadata": {},
     "output_type": "execute_result"
    }
   ],
   "source": [
    "'''from sklearn.experimental import enable_iterative_imputer\n",
    "from sklearn.impute import IterativeImputer\n",
    "\n",
    "from sklearn.ensemble import ExtraTreesRegressor\n",
    "from sklearn.tree import DecisionTreeRegressor\n",
    "from sklearn.neighbors import KNeighborsRegressor\n",
    "\n",
    "imputer = IterativeImputer(max_iter=10, tol=3*x.std().max(),random_state=42, \n",
    "                           estimator=DecisionTreeRegressor(max_features='sqrt'))\n",
    "\n",
    "for i in tqdm(range(10)):\n",
    "    fit_x = x[np.random.choice(len(x), 10000)]\n",
    "    imputer.fit(fit_x)\n",
    "x = imputer.transform(x)'''"
   ]
  },
  {
   "cell_type": "code",
   "execution_count": 17,
   "metadata": {},
   "outputs": [],
   "source": [
    "from sklearn.impute import SimpleImputer\n",
    "imputer = SimpleImputer(missing_values=np.nan, strategy='mean')\n",
    "x = imputer.fit_transform(x)"
   ]
  },
  {
   "cell_type": "code",
   "execution_count": 18,
   "metadata": {},
   "outputs": [],
   "source": [
    "class VAE(nn.Module):\n",
    "    def __init__(self, x_dim, z_dim):\n",
    "        super(VAE, self).__init__()\n",
    "        \n",
    "        self.fc1 = nn.Linear(x_dim, x_dim//2)\n",
    "        self.fc2 = nn.Linear(x_dim//2, x_dim//4)\n",
    "        self.fc3 = nn.Linear(x_dim//4, x_dim//8)\n",
    "        self.fc41 = nn.Linear(x_dim//8, z_dim)\n",
    "        self.fc42 = nn.Linear(x_dim//8, z_dim)\n",
    "\n",
    "        self.fc5 = nn.Linear(z_dim, x_dim//8)\n",
    "        self.fc6 = nn.Linear(x_dim//8, x_dim//4)\n",
    "        self.fc7 = nn.Linear(x_dim//4, x_dim//2)\n",
    "        self.fc8 = nn.Linear(x_dim//2, x_dim)\n",
    "        \n",
    "    def encoder(self, x):\n",
    "        h = F.relu(self.fc1(x))\n",
    "        h = F.relu(self.fc2(h))\n",
    "        h = F.relu(self.fc3(h))\n",
    "        return self.fc41(h), self.fc42(h)\n",
    "    \n",
    "    def sampling(self, mu, log_var):\n",
    "        std = torch.exp(0.5*log_var)\n",
    "        eps = torch.randn_like(std)\n",
    "        return eps.mul(std).add_(mu)\n",
    "        \n",
    "    def decoder(self, z):\n",
    "        h = F.relu(self.fc5(z))\n",
    "        h = F.relu(self.fc6(h))\n",
    "        h = F.relu(self.fc7(h))\n",
    "        return torch.sigmoid(self.fc8(h)) \n",
    "    \n",
    "    def forward(self, x):\n",
    "        mu, log_var = self.encoder(x.view(-1, x.shape[1]))\n",
    "        z = self.sampling(mu, log_var)\n",
    "        return self.decoder(z), mu, log_var"
   ]
  },
  {
   "cell_type": "code",
   "execution_count": 47,
   "metadata": {},
   "outputs": [],
   "source": [
    "device = torch.device('cuda:0' if torch.cuda.is_available() else 'cpu')\n",
    "vae = VAE(x_dim=x.shape[1], z_dim=5).to(device)\n",
    "\n",
    "optimizer = optim.Adam(vae.parameters())\n",
    "\n",
    "data_loader = torch.utils.data.DataLoader(x.astype(np.float32), batch_size=5000, shuffle=True)\n",
    "def loss_function(recon_x, x, mu, log_var):\n",
    "    BCE = F.binary_cross_entropy(recon_x, x.view(-1, x.shape[1]), reduction='sum')\n",
    "    KLD = -0.5 * torch.sum(1 + log_var - mu.pow(2) - log_var.exp())\n",
    "    return BCE + KLD\n",
    "\n",
    "def train(epoch):\n",
    "    vae.train()\n",
    "    train_loss = 0\n",
    "    for batch_idx, data in enumerate(data_loader):\n",
    "        data = data.to(device)\n",
    "        optimizer.zero_grad()\n",
    "        \n",
    "        recon_batch, mu, log_var = vae(data)\n",
    "        loss = loss_function(recon_batch, data, mu, log_var)\n",
    "        \n",
    "        loss.backward()\n",
    "        train_loss += loss.item()\n",
    "        optimizer.step()\n",
    "        \n",
    "        '''if batch_idx % 100 == 0:\n",
    "            print('Train Epoch: {} [{}/{} ({:.0f}%)]\\tLoss: {:.6f}'.format(\n",
    "                epoch, batch_idx * len(data), x.shape[0],\n",
    "                100. * batch_idx / 1000, loss.item() / len(data)))'''\n",
    "    print('====> Epoch: {} Average loss: {:.8f}'.format(epoch, train_loss / x.shape[0]))\n",
    "    "
   ]
  },
  {
   "cell_type": "code",
   "execution_count": null,
   "metadata": {},
   "outputs": [
    {
     "data": {
      "application/vnd.jupyter.widget-view+json": {
       "model_id": "f296479161e84d7e98d09be39eda7d26",
       "version_major": 2,
       "version_minor": 0
      },
      "text/plain": [
       "HBox(children=(FloatProgress(value=0.0, max=50.0), HTML(value='')))"
      ]
     },
     "metadata": {},
     "output_type": "display_data"
    },
    {
     "name": "stdout",
     "output_type": "stream",
     "text": [
      "====> Epoch: 1 Average loss: 125.87517464\n",
      "====> Epoch: 2 Average loss: 122.95665429\n",
      "====> Epoch: 3 Average loss: 122.90931981\n",
      "====> Epoch: 4 Average loss: 122.90250255\n",
      "====> Epoch: 5 Average loss: 122.89792189\n",
      "====> Epoch: 6 Average loss: 122.89492919\n",
      "====> Epoch: 7 Average loss: 122.89257729\n",
      "====> Epoch: 8 Average loss: 122.89188482\n",
      "====> Epoch: 9 Average loss: 122.88948106\n",
      "====> Epoch: 10 Average loss: 122.88859826\n",
      "====> Epoch: 11 Average loss: 122.88667965\n",
      "====> Epoch: 12 Average loss: 122.88493482\n",
      "====> Epoch: 13 Average loss: 122.88436583\n",
      "====> Epoch: 14 Average loss: 122.88325607\n",
      "====> Epoch: 15 Average loss: 122.88296800\n",
      "====> Epoch: 16 Average loss: 122.88228233\n",
      "====> Epoch: 17 Average loss: 122.88223943\n",
      "====> Epoch: 18 Average loss: 122.88203444\n",
      "====> Epoch: 19 Average loss: 122.88169127\n",
      "====> Epoch: 20 Average loss: 122.88212750\n",
      "====> Epoch: 21 Average loss: 122.88165932\n",
      "====> Epoch: 22 Average loss: 122.88181402\n",
      "====> Epoch: 23 Average loss: 122.88086791\n",
      "====> Epoch: 24 Average loss: 122.88045992\n",
      "====> Epoch: 25 Average loss: 122.88089483\n",
      "====> Epoch: 26 Average loss: 122.88093234\n",
      "====> Epoch: 27 Average loss: 122.88073568\n",
      "====> Epoch: 28 Average loss: 122.88039498\n",
      "====> Epoch: 29 Average loss: 122.88079086\n",
      "====> Epoch: 30 Average loss: 122.88010794\n",
      "====> Epoch: 31 Average loss: 122.87996064\n",
      "====> Epoch: 32 Average loss: 122.87995312\n",
      "====> Epoch: 33 Average loss: 122.88007689\n"
     ]
    }
   ],
   "source": [
    "for epoch in tqdm(range(1, 51)):\n",
    "    train(epoch)"
   ]
  },
  {
   "cell_type": "code",
   "execution_count": 59,
   "metadata": {},
   "outputs": [],
   "source": [
    "mu, log_var = vae.encoder(torch.tensor(x.astype(np.float32)))\n",
    "embed = vae.sampling(mu, log_var).detach().numpy()"
   ]
  },
  {
   "cell_type": "code",
   "execution_count": null,
   "metadata": {},
   "outputs": [],
   "source": []
  },
  {
   "cell_type": "markdown",
   "metadata": {},
   "source": [
    "**Iterative Imputer, z=5**"
   ]
  },
  {
   "cell_type": "code",
   "execution_count": 24,
   "metadata": {},
   "outputs": [],
   "source": [
    "#hdbScan = hdbscan.HDBSCAN(min_cluster_size=2, min_samples=1, allow_single_cluster=True).fit(embed)"
   ]
  },
  {
   "cell_type": "code",
   "execution_count": 25,
   "metadata": {},
   "outputs": [],
   "source": [
    "#homogeneity_completeness_v_measure(y.iGrID, hdbScan.labels_)"
   ]
  },
  {
   "cell_type": "code",
   "execution_count": 26,
   "metadata": {},
   "outputs": [],
   "source": [
    "#hdbScan = hdbscan.HDBSCAN(min_cluster_size=9, min_samples=2, allow_single_cluster=True).fit(embed)"
   ]
  },
  {
   "cell_type": "code",
   "execution_count": 27,
   "metadata": {},
   "outputs": [],
   "source": [
    "#homogeneity_completeness_v_measure(y.iGrID, hdbScan.labels_)"
   ]
  },
  {
   "cell_type": "code",
   "execution_count": 28,
   "metadata": {},
   "outputs": [],
   "source": [
    "#hdbScan = hdbscan.HDBSCAN(min_cluster_size=2, min_samples=2, allow_single_cluster=True).fit(embed)"
   ]
  },
  {
   "cell_type": "code",
   "execution_count": 29,
   "metadata": {},
   "outputs": [],
   "source": [
    "#homogeneity_completeness_v_measure(y.iGrID, hdbScan.labels_)"
   ]
  },
  {
   "cell_type": "code",
   "execution_count": 30,
   "metadata": {},
   "outputs": [],
   "source": [
    "#hdbScan = hdbscan.HDBSCAN(min_cluster_size=5, min_samples=1, allow_single_cluster=True).fit(embed)"
   ]
  },
  {
   "cell_type": "code",
   "execution_count": 31,
   "metadata": {},
   "outputs": [],
   "source": [
    "#homogeneity_completeness_v_measure(y.iGrID, hdbScan.labels_)"
   ]
  },
  {
   "cell_type": "code",
   "execution_count": 32,
   "metadata": {},
   "outputs": [],
   "source": [
    "#np.unique(hdbScan.probabilities_)"
   ]
  },
  {
   "cell_type": "markdown",
   "metadata": {},
   "source": [
    "**Simple Imputer, z=3. VAE 20 E**"
   ]
  },
  {
   "cell_type": "code",
   "execution_count": 33,
   "metadata": {},
   "outputs": [],
   "source": [
    "hdbScan = hdbscan.HDBSCAN(min_cluster_size=2, min_samples=1, allow_single_cluster=True).fit(embed)"
   ]
  },
  {
   "cell_type": "code",
   "execution_count": 34,
   "metadata": {},
   "outputs": [
    {
     "data": {
      "text/plain": [
       "(0.7778098682302218, 0.9014110352007361, 0.835061542026093)"
      ]
     },
     "execution_count": 34,
     "metadata": {},
     "output_type": "execute_result"
    }
   ],
   "source": [
    "homogeneity_completeness_v_measure(y.iGrID, hdbScan.labels_)"
   ]
  },
  {
   "cell_type": "markdown",
   "metadata": {},
   "source": [
    "**Simple Imputer, z=2, VAE 20 E**"
   ]
  },
  {
   "cell_type": "code",
   "execution_count": 38,
   "metadata": {},
   "outputs": [],
   "source": [
    "hdbScan = hdbscan.HDBSCAN(min_cluster_size=2, min_samples=1, allow_single_cluster=True).fit(embed)"
   ]
  },
  {
   "cell_type": "code",
   "execution_count": 39,
   "metadata": {},
   "outputs": [
    {
     "data": {
      "text/plain": [
       "(0.813767260257694, 0.9032521804769117, 0.8561779031622472)"
      ]
     },
     "execution_count": 39,
     "metadata": {},
     "output_type": "execute_result"
    }
   ],
   "source": [
    "homogeneity_completeness_v_measure(y.iGrID, hdbScan.labels_)"
   ]
  },
  {
   "cell_type": "markdown",
   "metadata": {},
   "source": [
    "**Simple Imputer, z=1, VAE 20 E**"
   ]
  },
  {
   "cell_type": "code",
   "execution_count": 43,
   "metadata": {},
   "outputs": [],
   "source": [
    "hdbScan = hdbscan.HDBSCAN(min_cluster_size=2, min_samples=1, allow_single_cluster=True).fit(embed)"
   ]
  },
  {
   "cell_type": "code",
   "execution_count": 44,
   "metadata": {},
   "outputs": [
    {
     "data": {
      "text/plain": [
       "(0.8585356649593051, 0.905938883908761, 0.8816005224989566)"
      ]
     },
     "execution_count": 44,
     "metadata": {},
     "output_type": "execute_result"
    }
   ],
   "source": [
    "homogeneity_completeness_v_measure(y.iGrID, hdbScan.labels_)"
   ]
  },
  {
   "cell_type": "markdown",
   "metadata": {},
   "source": [
    "**Simple Imputer, z=1, VAE 100 E**"
   ]
  },
  {
   "cell_type": "code",
   "execution_count": 50,
   "metadata": {},
   "outputs": [],
   "source": [
    "hdbScan = hdbscan.HDBSCAN(min_cluster_size=2, min_samples=1, allow_single_cluster=True).fit(embed)"
   ]
  },
  {
   "cell_type": "code",
   "execution_count": 51,
   "metadata": {},
   "outputs": [
    {
     "data": {
      "text/plain": [
       "(0.8580607246286622, 0.9059051391109436, 0.8813340848472478)"
      ]
     },
     "execution_count": 51,
     "metadata": {},
     "output_type": "execute_result"
    }
   ],
   "source": [
    "homogeneity_completeness_v_measure(y.iGrID, hdbScan.labels_)"
   ]
  },
  {
   "cell_type": "markdown",
   "metadata": {},
   "source": [
    "**Simple Imputer, z=1, VAE 20 E, Batch 10000**"
   ]
  },
  {
   "cell_type": "code",
   "execution_count": 55,
   "metadata": {},
   "outputs": [],
   "source": [
    "hdbScan = hdbscan.HDBSCAN(min_cluster_size=2, min_samples=1, allow_single_cluster=True).fit(embed)"
   ]
  },
  {
   "cell_type": "code",
   "execution_count": 56,
   "metadata": {},
   "outputs": [
    {
     "data": {
      "text/plain": [
       "(0.8576638176053267, 0.9058942186629216, 0.8811195072083883)"
      ]
     },
     "execution_count": 56,
     "metadata": {},
     "output_type": "execute_result"
    }
   ],
   "source": [
    "homogeneity_completeness_v_measure(y.iGrID, hdbScan.labels_)"
   ]
  },
  {
   "cell_type": "markdown",
   "metadata": {},
   "source": [
    "**Simple Imputer, z=1, VAE 100 E, Batch 10000**"
   ]
  },
  {
   "cell_type": "code",
   "execution_count": 60,
   "metadata": {},
   "outputs": [],
   "source": [
    "hdbScan = hdbscan.HDBSCAN(min_cluster_size=2, min_samples=1, allow_single_cluster=True).fit(embed)"
   ]
  },
  {
   "cell_type": "code",
   "execution_count": 61,
   "metadata": {},
   "outputs": [
    {
     "data": {
      "text/plain": [
       "(0.8581847834479922, 0.9059279747981961, 0.88141032849236)"
      ]
     },
     "execution_count": 61,
     "metadata": {},
     "output_type": "execute_result"
    }
   ],
   "source": [
    "homogeneity_completeness_v_measure(y.iGrID, hdbScan.labels_)"
   ]
  },
  {
   "cell_type": "code",
   "execution_count": null,
   "metadata": {},
   "outputs": [],
   "source": []
  },
  {
   "cell_type": "code",
   "execution_count": 65,
   "metadata": {},
   "outputs": [],
   "source": [
    "zs_res = []\n",
    "for z in [1, 2, 3, 4, 5, 10, 15]:\n",
    "    vae = VAE(x_dim=x.shape[1], z_dim=z)\n",
    "    for e in range(20):\n",
    "        train(e)\n",
    "    mu, log_var = vae.encoder(torch.tensor(x.astype(np.float32)))\n",
    "    embed = vae.sampling(mu, log_var).detach().numpy()\n",
    "    hdbScan = hdbscan.HDBSCAN(min_cluster_size=2, min_samples=1, allow_single_cluster=True).fit(embed)\n",
    "    zs_res.append(homogeneity_completeness_v_measure(y.iGrID, hdbScan.labels_))"
   ]
  },
  {
   "cell_type": "code",
   "execution_count": 75,
   "metadata": {},
   "outputs": [
    {
     "data": {
      "image/png": "[encoded data removed]",
      "text/plain": [
       "<Figure size 1080x504 with 1 Axes>"
      ]
     },
     "metadata": {
      "needs_background": "light"
     },
     "output_type": "display_data"
    }
   ],
   "source": [
    "plt.figure(figsize=(15,7))\n",
    "plt.plot([1, 2, 3, 4, 5, 10, 15], [r[2] for r in zs_res], label='V score')\n",
    "plt.plot([1, 2, 3, 4, 5, 10, 15], [r[0] for r in zs_res], label='Homogeneity')\n",
    "plt.plot([1, 2, 3, 4, 5, 10, 15], [r[1] for r in zs_res], label='Completeness')\n",
    "plt.legend()\n",
    "plt.show()"
   ]
  },
  {
   "cell_type": "code",
   "execution_count": null,
   "metadata": {},
   "outputs": [],
   "source": []
  }
 ],
 "metadata": {
  "kernelspec": {
   "display_name": "Python 3",
   "language": "python",
   "name": "python3"
  }
 },
 "nbformat": 4,
 "nbformat_minor": 2
}
