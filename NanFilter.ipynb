{
 "cells": [
  {
   "cell_type": "code",
   "execution_count": 1,
   "metadata": {},
   "outputs": [],
   "source": [
    "import numpy as np\n",
    "import pandas as pd\n",
    "import matplotlib.pyplot as plt"
   ]
  },
  {
   "cell_type": "code",
   "execution_count": 11,
   "metadata": {},
   "outputs": [],
   "source": [
    "g_2 = pd.read_csv('g_2.csv')\n",
    "g_s = pd.read_csv('g_s.csv')"
   ]
  },
  {
   "cell_type": "code",
   "execution_count": 12,
   "metadata": {},
   "outputs": [
    {
     "name": "stdout",
     "output_type": "stream",
     "text": [
      "(1200, 21)\n",
      "(30539, 23)\n"
     ]
    }
   ],
   "source": [
    "print(g_2.shape)\n",
    "print(g_s.shape)"
   ]
  },
  {
   "cell_type": "code",
   "execution_count": 13,
   "metadata": {},
   "outputs": [
    {
     "name": "stdout",
     "output_type": "stream",
     "text": [
      "iGalID        False\n",
      "iGrID         False\n",
      "Name          False\n",
      "RAJ2000_x     False\n",
      "DEJ2000_x     False\n",
      "z_x           False\n",
      "logMstar_x     True\n",
      "RAJ2000_y     False\n",
      "DEJ2000_y     False\n",
      "z_y           False\n",
      "logLtot       False\n",
      "logLobs       False\n",
      "logMtot       False\n",
      "logMstar_y     True\n",
      "NMstar        False\n",
      "logMdyn       False\n",
      "sigma         False\n",
      "Rad           False\n",
      "angRad        False\n",
      "DL            False\n",
      "Ntot          False\n",
      "dtype: bool\n"
     ]
    }
   ],
   "source": [
    "print(g_2.isna().any())"
   ]
  },
  {
   "cell_type": "code",
   "execution_count": 14,
   "metadata": {},
   "outputs": [
    {
     "name": "stdout",
     "output_type": "stream",
     "text": [
      "iGalID        False\n",
      "iGrID         False\n",
      "Name          False\n",
      "RAJ2000_x     False\n",
      "DEJ2000_x     False\n",
      "z_x           False\n",
      "logMstar_x     True\n",
      "Dist_x        False\n",
      "RAJ2000_y     False\n",
      "DEJ2000_y     False\n",
      "z_y           False\n",
      "logLtot       False\n",
      "logLobs       False\n",
      "logMtot       False\n",
      "logMstar_y     True\n",
      "NMstar        False\n",
      "logMdyn       False\n",
      "sigma         False\n",
      "Rad           False\n",
      "angRad        False\n",
      "DL            False\n",
      "Ntot          False\n",
      "Dist_y        False\n",
      "dtype: bool\n"
     ]
    }
   ],
   "source": [
    "print(g_s.isna().any())"
   ]
  },
  {
   "cell_type": "code",
   "execution_count": 15,
   "metadata": {},
   "outputs": [],
   "source": [
    "g_2 = g_2.dropna(subset=['logMstar_x', 'logMstar_y'])\n",
    "g_s = g_s.dropna(subset=['logMstar_x', 'logMstar_y'])"
   ]
  },
  {
   "cell_type": "code",
   "execution_count": 16,
   "metadata": {},
   "outputs": [
    {
     "name": "stdout",
     "output_type": "stream",
     "text": [
      "(425, 21)\n",
      "(28478, 23)\n"
     ]
    }
   ],
   "source": [
    "print(g_2.shape)\n",
    "print(g_s.shape)"
   ]
  },
  {
   "cell_type": "code",
   "execution_count": 17,
   "metadata": {},
   "outputs": [],
   "source": [
    "g_2.to_csv('Filtrated_g_2.csv', index=False)\n",
    "g_s.to_csv('Filtrated_g_s.csv', index=False)"
   ]
  },
  {
   "cell_type": "code",
   "execution_count": null,
   "metadata": {},
   "outputs": [],
   "source": []
  }
 ],
 "metadata": {
  "kernelspec": {
   "display_name": "Python 3",
   "language": "python",
   "name": "python3"
  },
  "language_info": {
   "codemirror_mode": {
    "name": "ipython",
    "version": 3
   },
   "file_extension": ".py",
   "mimetype": "text/x-python",
   "name": "python",
   "nbconvert_exporter": "python",
   "pygments_lexer": "ipython3",
   "version": "3.6.8"
  }
 },
 "nbformat": 4,
 "nbformat_minor": 2
}
